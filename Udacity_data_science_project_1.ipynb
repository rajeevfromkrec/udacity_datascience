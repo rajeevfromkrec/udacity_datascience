{
  "nbformat": 4,
  "nbformat_minor": 0,
  "metadata": {
    "colab": {
      "name": "Udacity data science project 1.ipynb",
      "provenance": [],
      "collapsed_sections": [],
      "authorship_tag": "ABX9TyNDnzhu1nR9bbJwSK29zxtg",
      "include_colab_link": true
    },
    "kernelspec": {
      "name": "python3",
      "display_name": "Python 3"
    }
  },
  "cells": [
    {
      "cell_type": "markdown",
      "metadata": {
        "id": "view-in-github",
        "colab_type": "text"
      },
      "source": [
        "<a href=\"https://colab.research.google.com/github/rajeevfromkrec/udacity_datascience/blob/main/Udacity_data_science_project_1.ipynb\" target=\"_parent\"><img src=\"https://colab.research.google.com/assets/colab-badge.svg\" alt=\"Open In Colab\"/></a>"
      ]
    },
    {
      "cell_type": "code",
      "metadata": {
        "id": "ke-EktwUOejZ"
      },
      "source": [
        "import pandas as pd\n",
        "import numpy as np\n",
        "import seaborn as sns\n",
        "import matplotlib.pyplot as plt\n",
        "import math\n",
        "%matplotlib inline\n",
        "#pd.set_option('display.max_colwidth', -1)"
      ],
      "execution_count": 8,
      "outputs": []
    },
    {
      "cell_type": "markdown",
      "metadata": {
        "id": "5wAy-RWO2-w9"
      },
      "source": [
        "#### Clone repository to get data "
      ]
    },
    {
      "cell_type": "code",
      "metadata": {
        "colab": {
          "base_uri": "https://localhost:8080/"
        },
        "id": "cd5wyj193EC9",
        "outputId": "767e2a55-39d4-43fd-b907-c6cb91ffc8f7"
      },
      "source": [
        "!git clone https://github.com/rajeevfromkrec/udacity_datascience.git"
      ],
      "execution_count": 3,
      "outputs": [
        {
          "output_type": "stream",
          "text": [
            "Cloning into 'udacity_datascience'...\n",
            "remote: Enumerating objects: 32, done.\u001b[K\n",
            "remote: Counting objects: 100% (32/32), done.\u001b[K\n",
            "remote: Compressing objects: 100% (28/28), done.\u001b[K\n",
            "remote: Total 32 (delta 14), reused 0 (delta 0), pack-reused 0\u001b[K\n",
            "Unpacking objects: 100% (32/32), done.\n"
          ],
          "name": "stdout"
        }
      ]
    },
    {
      "cell_type": "code",
      "metadata": {
        "colab": {
          "base_uri": "https://localhost:8080/"
        },
        "id": "t8ez393FOv-o",
        "outputId": "da1bca21-7841-4816-e697-7645ab611659"
      },
      "source": [
        "!ls"
      ],
      "execution_count": 4,
      "outputs": [
        {
          "output_type": "stream",
          "text": [
            "sample_data  udacity_datascience\n"
          ],
          "name": "stdout"
        }
      ]
    },
    {
      "cell_type": "markdown",
      "metadata": {
        "id": "PzaojT8bktTE"
      },
      "source": [
        "### Unzip the file"
      ]
    },
    {
      "cell_type": "code",
      "metadata": {
        "colab": {
          "base_uri": "https://localhost:8080/"
        },
        "id": "CvvGjJZ6OzFG",
        "outputId": "9ab23bfb-58ef-4a29-e908-61bf7d75babc"
      },
      "source": [
        "!unzip udacity_datascience/data/developer_survey_2020.zip"
      ],
      "execution_count": 5,
      "outputs": [
        {
          "output_type": "stream",
          "text": [
            "Archive:  udacity_datascience/data/developer_survey_2020.zip\n",
            "  inflating: README_2020.txt         \n",
            "  inflating: so_survey_2020.pdf      \n",
            "  inflating: survey_results_public.csv  \n",
            "  inflating: survey_results_schema.csv  \n"
          ],
          "name": "stdout"
        }
      ]
    },
    {
      "cell_type": "code",
      "metadata": {
        "colab": {
          "base_uri": "https://localhost:8080/"
        },
        "id": "AnG3Lw_Q3kxQ",
        "outputId": "8d255732-4d7e-4e49-e4d7-80c3e97c032d"
      },
      "source": [
        "!ls"
      ],
      "execution_count": 6,
      "outputs": [
        {
          "output_type": "stream",
          "text": [
            "README_2020.txt  so_survey_2020.pdf\t    survey_results_schema.csv\n",
            "sample_data\t survey_results_public.csv  udacity_datascience\n"
          ],
          "name": "stdout"
        }
      ]
    },
    {
      "cell_type": "markdown",
      "metadata": {
        "id": "YGW3lARykluS"
      },
      "source": [
        "###Load data into dataframe"
      ]
    },
    {
      "cell_type": "code",
      "metadata": {
        "id": "vvEPIwc4O3n0"
      },
      "source": [
        "df=pd.read_csv('survey_results_public.csv')"
      ],
      "execution_count": 9,
      "outputs": []
    },
    {
      "cell_type": "code",
      "metadata": {
        "colab": {
          "base_uri": "https://localhost:8080/",
          "height": 598
        },
        "id": "04Ya8RG0QBJL",
        "outputId": "b2c9fda3-8135-415b-e907-921d8d4fc172"
      },
      "source": [
        "df.head()"
      ],
      "execution_count": 10,
      "outputs": [
        {
          "output_type": "execute_result",
          "data": {
            "text/html": [
              "<div>\n",
              "<style scoped>\n",
              "    .dataframe tbody tr th:only-of-type {\n",
              "        vertical-align: middle;\n",
              "    }\n",
              "\n",
              "    .dataframe tbody tr th {\n",
              "        vertical-align: top;\n",
              "    }\n",
              "\n",
              "    .dataframe thead th {\n",
              "        text-align: right;\n",
              "    }\n",
              "</style>\n",
              "<table border=\"1\" class=\"dataframe\">\n",
              "  <thead>\n",
              "    <tr style=\"text-align: right;\">\n",
              "      <th></th>\n",
              "      <th>Respondent</th>\n",
              "      <th>MainBranch</th>\n",
              "      <th>Hobbyist</th>\n",
              "      <th>Age</th>\n",
              "      <th>Age1stCode</th>\n",
              "      <th>CompFreq</th>\n",
              "      <th>CompTotal</th>\n",
              "      <th>ConvertedComp</th>\n",
              "      <th>Country</th>\n",
              "      <th>CurrencyDesc</th>\n",
              "      <th>CurrencySymbol</th>\n",
              "      <th>DatabaseDesireNextYear</th>\n",
              "      <th>DatabaseWorkedWith</th>\n",
              "      <th>DevType</th>\n",
              "      <th>EdLevel</th>\n",
              "      <th>Employment</th>\n",
              "      <th>Ethnicity</th>\n",
              "      <th>Gender</th>\n",
              "      <th>JobFactors</th>\n",
              "      <th>JobSat</th>\n",
              "      <th>JobSeek</th>\n",
              "      <th>LanguageDesireNextYear</th>\n",
              "      <th>LanguageWorkedWith</th>\n",
              "      <th>MiscTechDesireNextYear</th>\n",
              "      <th>MiscTechWorkedWith</th>\n",
              "      <th>NEWCollabToolsDesireNextYear</th>\n",
              "      <th>NEWCollabToolsWorkedWith</th>\n",
              "      <th>NEWDevOps</th>\n",
              "      <th>NEWDevOpsImpt</th>\n",
              "      <th>NEWEdImpt</th>\n",
              "      <th>NEWJobHunt</th>\n",
              "      <th>NEWJobHuntResearch</th>\n",
              "      <th>NEWLearn</th>\n",
              "      <th>NEWOffTopic</th>\n",
              "      <th>NEWOnboardGood</th>\n",
              "      <th>NEWOtherComms</th>\n",
              "      <th>NEWOvertime</th>\n",
              "      <th>NEWPurchaseResearch</th>\n",
              "      <th>NEWPurpleLink</th>\n",
              "      <th>NEWSOSites</th>\n",
              "      <th>NEWStuck</th>\n",
              "      <th>OpSys</th>\n",
              "      <th>OrgSize</th>\n",
              "      <th>PlatformDesireNextYear</th>\n",
              "      <th>PlatformWorkedWith</th>\n",
              "      <th>PurchaseWhat</th>\n",
              "      <th>Sexuality</th>\n",
              "      <th>SOAccount</th>\n",
              "      <th>SOComm</th>\n",
              "      <th>SOPartFreq</th>\n",
              "      <th>SOVisitFreq</th>\n",
              "      <th>SurveyEase</th>\n",
              "      <th>SurveyLength</th>\n",
              "      <th>Trans</th>\n",
              "      <th>UndergradMajor</th>\n",
              "      <th>WebframeDesireNextYear</th>\n",
              "      <th>WebframeWorkedWith</th>\n",
              "      <th>WelcomeChange</th>\n",
              "      <th>WorkWeekHrs</th>\n",
              "      <th>YearsCode</th>\n",
              "      <th>YearsCodePro</th>\n",
              "    </tr>\n",
              "  </thead>\n",
              "  <tbody>\n",
              "    <tr>\n",
              "      <th>0</th>\n",
              "      <td>1</td>\n",
              "      <td>I am a developer by profession</td>\n",
              "      <td>Yes</td>\n",
              "      <td>NaN</td>\n",
              "      <td>13</td>\n",
              "      <td>Monthly</td>\n",
              "      <td>NaN</td>\n",
              "      <td>NaN</td>\n",
              "      <td>Germany</td>\n",
              "      <td>European Euro</td>\n",
              "      <td>EUR</td>\n",
              "      <td>Microsoft SQL Server</td>\n",
              "      <td>Elasticsearch;Microsoft SQL Server;Oracle</td>\n",
              "      <td>Developer, desktop or enterprise applications;...</td>\n",
              "      <td>Master’s degree (M.A., M.S., M.Eng., MBA, etc.)</td>\n",
              "      <td>Independent contractor, freelancer, or self-em...</td>\n",
              "      <td>White or of European descent</td>\n",
              "      <td>Man</td>\n",
              "      <td>Languages, frameworks, and other technologies ...</td>\n",
              "      <td>Slightly satisfied</td>\n",
              "      <td>I am not interested in new job opportunities</td>\n",
              "      <td>C#;HTML/CSS;JavaScript</td>\n",
              "      <td>C#;HTML/CSS;JavaScript</td>\n",
              "      <td>.NET Core;Xamarin</td>\n",
              "      <td>.NET;.NET Core</td>\n",
              "      <td>Microsoft Teams;Microsoft Azure;Trello</td>\n",
              "      <td>Confluence;Jira;Slack;Microsoft Azure;Trello</td>\n",
              "      <td>No</td>\n",
              "      <td>Somewhat important</td>\n",
              "      <td>Fairly important</td>\n",
              "      <td>NaN</td>\n",
              "      <td>NaN</td>\n",
              "      <td>Once a year</td>\n",
              "      <td>Not sure</td>\n",
              "      <td>NaN</td>\n",
              "      <td>No</td>\n",
              "      <td>Often: 1-2 days per week or more</td>\n",
              "      <td>Start a free trial;Ask developers I know/work ...</td>\n",
              "      <td>Amused</td>\n",
              "      <td>Stack Overflow (public Q&amp;A for anyone who codes)</td>\n",
              "      <td>Visit Stack Overflow;Go for a walk or other ph...</td>\n",
              "      <td>Windows</td>\n",
              "      <td>2 to 9 employees</td>\n",
              "      <td>Android;iOS;Kubernetes;Microsoft Azure;Windows</td>\n",
              "      <td>Windows</td>\n",
              "      <td>NaN</td>\n",
              "      <td>Straight / Heterosexual</td>\n",
              "      <td>No</td>\n",
              "      <td>No, not at all</td>\n",
              "      <td>NaN</td>\n",
              "      <td>Multiple times per day</td>\n",
              "      <td>Neither easy nor difficult</td>\n",
              "      <td>Appropriate in length</td>\n",
              "      <td>No</td>\n",
              "      <td>Computer science, computer engineering, or sof...</td>\n",
              "      <td>ASP.NET Core</td>\n",
              "      <td>ASP.NET;ASP.NET Core</td>\n",
              "      <td>Just as welcome now as I felt last year</td>\n",
              "      <td>50.0</td>\n",
              "      <td>36</td>\n",
              "      <td>27</td>\n",
              "    </tr>\n",
              "    <tr>\n",
              "      <th>1</th>\n",
              "      <td>2</td>\n",
              "      <td>I am a developer by profession</td>\n",
              "      <td>No</td>\n",
              "      <td>NaN</td>\n",
              "      <td>19</td>\n",
              "      <td>NaN</td>\n",
              "      <td>NaN</td>\n",
              "      <td>NaN</td>\n",
              "      <td>United Kingdom</td>\n",
              "      <td>Pound sterling</td>\n",
              "      <td>GBP</td>\n",
              "      <td>NaN</td>\n",
              "      <td>NaN</td>\n",
              "      <td>Developer, full-stack;Developer, mobile</td>\n",
              "      <td>Bachelor’s degree (B.A., B.S., B.Eng., etc.)</td>\n",
              "      <td>Employed full-time</td>\n",
              "      <td>NaN</td>\n",
              "      <td>NaN</td>\n",
              "      <td>NaN</td>\n",
              "      <td>Very dissatisfied</td>\n",
              "      <td>I am not interested in new job opportunities</td>\n",
              "      <td>Python;Swift</td>\n",
              "      <td>JavaScript;Swift</td>\n",
              "      <td>React Native;TensorFlow;Unity 3D</td>\n",
              "      <td>React Native</td>\n",
              "      <td>Github;Slack</td>\n",
              "      <td>Confluence;Jira;Github;Gitlab;Slack</td>\n",
              "      <td>NaN</td>\n",
              "      <td>NaN</td>\n",
              "      <td>Fairly important</td>\n",
              "      <td>NaN</td>\n",
              "      <td>NaN</td>\n",
              "      <td>Once a year</td>\n",
              "      <td>Not sure</td>\n",
              "      <td>NaN</td>\n",
              "      <td>No</td>\n",
              "      <td>NaN</td>\n",
              "      <td>NaN</td>\n",
              "      <td>Amused</td>\n",
              "      <td>Stack Overflow (public Q&amp;A for anyone who code...</td>\n",
              "      <td>Visit Stack Overflow;Go for a walk or other ph...</td>\n",
              "      <td>MacOS</td>\n",
              "      <td>1,000 to 4,999 employees</td>\n",
              "      <td>iOS;Kubernetes;Linux;MacOS</td>\n",
              "      <td>iOS</td>\n",
              "      <td>I have little or no influence</td>\n",
              "      <td>NaN</td>\n",
              "      <td>Yes</td>\n",
              "      <td>Yes, definitely</td>\n",
              "      <td>Less than once per month or monthly</td>\n",
              "      <td>Multiple times per day</td>\n",
              "      <td>NaN</td>\n",
              "      <td>NaN</td>\n",
              "      <td>NaN</td>\n",
              "      <td>Computer science, computer engineering, or sof...</td>\n",
              "      <td>NaN</td>\n",
              "      <td>NaN</td>\n",
              "      <td>Somewhat more welcome now than last year</td>\n",
              "      <td>NaN</td>\n",
              "      <td>7</td>\n",
              "      <td>4</td>\n",
              "    </tr>\n",
              "    <tr>\n",
              "      <th>2</th>\n",
              "      <td>3</td>\n",
              "      <td>I code primarily as a hobby</td>\n",
              "      <td>Yes</td>\n",
              "      <td>NaN</td>\n",
              "      <td>15</td>\n",
              "      <td>NaN</td>\n",
              "      <td>NaN</td>\n",
              "      <td>NaN</td>\n",
              "      <td>Russian Federation</td>\n",
              "      <td>NaN</td>\n",
              "      <td>NaN</td>\n",
              "      <td>NaN</td>\n",
              "      <td>NaN</td>\n",
              "      <td>NaN</td>\n",
              "      <td>NaN</td>\n",
              "      <td>NaN</td>\n",
              "      <td>NaN</td>\n",
              "      <td>NaN</td>\n",
              "      <td>NaN</td>\n",
              "      <td>NaN</td>\n",
              "      <td>NaN</td>\n",
              "      <td>Objective-C;Python;Swift</td>\n",
              "      <td>Objective-C;Python;Swift</td>\n",
              "      <td>NaN</td>\n",
              "      <td>NaN</td>\n",
              "      <td>NaN</td>\n",
              "      <td>NaN</td>\n",
              "      <td>NaN</td>\n",
              "      <td>NaN</td>\n",
              "      <td>NaN</td>\n",
              "      <td>NaN</td>\n",
              "      <td>NaN</td>\n",
              "      <td>Once a decade</td>\n",
              "      <td>NaN</td>\n",
              "      <td>NaN</td>\n",
              "      <td>No</td>\n",
              "      <td>NaN</td>\n",
              "      <td>NaN</td>\n",
              "      <td>NaN</td>\n",
              "      <td>Stack Overflow (public Q&amp;A for anyone who codes)</td>\n",
              "      <td>NaN</td>\n",
              "      <td>Linux-based</td>\n",
              "      <td>NaN</td>\n",
              "      <td>NaN</td>\n",
              "      <td>NaN</td>\n",
              "      <td>NaN</td>\n",
              "      <td>NaN</td>\n",
              "      <td>Yes</td>\n",
              "      <td>Yes, somewhat</td>\n",
              "      <td>A few times per month or weekly</td>\n",
              "      <td>Daily or almost daily</td>\n",
              "      <td>Neither easy nor difficult</td>\n",
              "      <td>Appropriate in length</td>\n",
              "      <td>NaN</td>\n",
              "      <td>NaN</td>\n",
              "      <td>NaN</td>\n",
              "      <td>NaN</td>\n",
              "      <td>Somewhat more welcome now than last year</td>\n",
              "      <td>NaN</td>\n",
              "      <td>4</td>\n",
              "      <td>NaN</td>\n",
              "    </tr>\n",
              "    <tr>\n",
              "      <th>3</th>\n",
              "      <td>4</td>\n",
              "      <td>I am a developer by profession</td>\n",
              "      <td>Yes</td>\n",
              "      <td>25.0</td>\n",
              "      <td>18</td>\n",
              "      <td>NaN</td>\n",
              "      <td>NaN</td>\n",
              "      <td>NaN</td>\n",
              "      <td>Albania</td>\n",
              "      <td>Albanian lek</td>\n",
              "      <td>ALL</td>\n",
              "      <td>NaN</td>\n",
              "      <td>NaN</td>\n",
              "      <td>NaN</td>\n",
              "      <td>Master’s degree (M.A., M.S., M.Eng., MBA, etc.)</td>\n",
              "      <td>NaN</td>\n",
              "      <td>White or of European descent</td>\n",
              "      <td>Man</td>\n",
              "      <td>Flex time or a flexible schedule;Office enviro...</td>\n",
              "      <td>Slightly dissatisfied</td>\n",
              "      <td>I’m not actively looking, but I am open to new...</td>\n",
              "      <td>NaN</td>\n",
              "      <td>NaN</td>\n",
              "      <td>NaN</td>\n",
              "      <td>NaN</td>\n",
              "      <td>NaN</td>\n",
              "      <td>NaN</td>\n",
              "      <td>No</td>\n",
              "      <td>NaN</td>\n",
              "      <td>Not at all important/not necessary</td>\n",
              "      <td>Curious about other opportunities;Wanting to w...</td>\n",
              "      <td>NaN</td>\n",
              "      <td>Once a year</td>\n",
              "      <td>Not sure</td>\n",
              "      <td>Yes</td>\n",
              "      <td>Yes</td>\n",
              "      <td>Occasionally: 1-2 days per quarter but less th...</td>\n",
              "      <td>NaN</td>\n",
              "      <td>NaN</td>\n",
              "      <td>Stack Overflow (public Q&amp;A for anyone who code...</td>\n",
              "      <td>NaN</td>\n",
              "      <td>Linux-based</td>\n",
              "      <td>20 to 99 employees</td>\n",
              "      <td>NaN</td>\n",
              "      <td>NaN</td>\n",
              "      <td>I have a great deal of influence</td>\n",
              "      <td>Straight / Heterosexual</td>\n",
              "      <td>Yes</td>\n",
              "      <td>Yes, definitely</td>\n",
              "      <td>A few times per month or weekly</td>\n",
              "      <td>Multiple times per day</td>\n",
              "      <td>NaN</td>\n",
              "      <td>NaN</td>\n",
              "      <td>No</td>\n",
              "      <td>Computer science, computer engineering, or sof...</td>\n",
              "      <td>NaN</td>\n",
              "      <td>NaN</td>\n",
              "      <td>Somewhat less welcome now than last year</td>\n",
              "      <td>40.0</td>\n",
              "      <td>7</td>\n",
              "      <td>4</td>\n",
              "    </tr>\n",
              "    <tr>\n",
              "      <th>4</th>\n",
              "      <td>5</td>\n",
              "      <td>I used to be a developer by profession, but no...</td>\n",
              "      <td>Yes</td>\n",
              "      <td>31.0</td>\n",
              "      <td>16</td>\n",
              "      <td>NaN</td>\n",
              "      <td>NaN</td>\n",
              "      <td>NaN</td>\n",
              "      <td>United States</td>\n",
              "      <td>NaN</td>\n",
              "      <td>NaN</td>\n",
              "      <td>MySQL;PostgreSQL</td>\n",
              "      <td>MySQL;PostgreSQL;Redis;SQLite</td>\n",
              "      <td>NaN</td>\n",
              "      <td>Bachelor’s degree (B.A., B.S., B.Eng., etc.)</td>\n",
              "      <td>Employed full-time</td>\n",
              "      <td>White or of European descent</td>\n",
              "      <td>Man</td>\n",
              "      <td>NaN</td>\n",
              "      <td>NaN</td>\n",
              "      <td>NaN</td>\n",
              "      <td>Java;Ruby;Scala</td>\n",
              "      <td>HTML/CSS;Ruby;SQL</td>\n",
              "      <td>Ansible;Chef</td>\n",
              "      <td>Ansible</td>\n",
              "      <td>Github;Google Suite (Docs, Meet, etc)</td>\n",
              "      <td>Confluence;Jira;Github;Slack;Google Suite (Doc...</td>\n",
              "      <td>NaN</td>\n",
              "      <td>NaN</td>\n",
              "      <td>Very important</td>\n",
              "      <td>NaN</td>\n",
              "      <td>NaN</td>\n",
              "      <td>Once a year</td>\n",
              "      <td>No</td>\n",
              "      <td>NaN</td>\n",
              "      <td>Yes</td>\n",
              "      <td>NaN</td>\n",
              "      <td>Start a free trial;Ask developers I know/work ...</td>\n",
              "      <td>Hello, old friend</td>\n",
              "      <td>Stack Overflow (public Q&amp;A for anyone who code...</td>\n",
              "      <td>Call a coworker or friend;Visit Stack Overflow...</td>\n",
              "      <td>Windows</td>\n",
              "      <td>NaN</td>\n",
              "      <td>Docker;Google Cloud Platform;Heroku;Linux;Windows</td>\n",
              "      <td>AWS;Docker;Linux;MacOS;Windows</td>\n",
              "      <td>NaN</td>\n",
              "      <td>Straight / Heterosexual</td>\n",
              "      <td>Yes</td>\n",
              "      <td>Yes, somewhat</td>\n",
              "      <td>Less than once per month or monthly</td>\n",
              "      <td>A few times per month or weekly</td>\n",
              "      <td>Easy</td>\n",
              "      <td>Too short</td>\n",
              "      <td>No</td>\n",
              "      <td>Computer science, computer engineering, or sof...</td>\n",
              "      <td>Django;Ruby on Rails</td>\n",
              "      <td>Ruby on Rails</td>\n",
              "      <td>Just as welcome now as I felt last year</td>\n",
              "      <td>NaN</td>\n",
              "      <td>15</td>\n",
              "      <td>8</td>\n",
              "    </tr>\n",
              "  </tbody>\n",
              "</table>\n",
              "</div>"
            ],
            "text/plain": [
              "   Respondent  ... YearsCodePro\n",
              "0           1  ...           27\n",
              "1           2  ...            4\n",
              "2           3  ...          NaN\n",
              "3           4  ...            4\n",
              "4           5  ...            8\n",
              "\n",
              "[5 rows x 61 columns]"
            ]
          },
          "metadata": {
            "tags": []
          },
          "execution_count": 10
        }
      ]
    },
    {
      "cell_type": "markdown",
      "metadata": {
        "id": "klhtzc8tlAJm"
      },
      "source": [
        "###look at the dataModel"
      ]
    },
    {
      "cell_type": "code",
      "metadata": {
        "colab": {
          "base_uri": "https://localhost:8080/"
        },
        "id": "zWMrwRBXQJFx",
        "outputId": "2a82cca4-87d7-483c-8320-09145586741e"
      },
      "source": [
        "df.info()"
      ],
      "execution_count": 11,
      "outputs": [
        {
          "output_type": "stream",
          "text": [
            "<class 'pandas.core.frame.DataFrame'>\n",
            "RangeIndex: 64461 entries, 0 to 64460\n",
            "Data columns (total 61 columns):\n",
            " #   Column                        Non-Null Count  Dtype  \n",
            "---  ------                        --------------  -----  \n",
            " 0   Respondent                    64461 non-null  int64  \n",
            " 1   MainBranch                    64162 non-null  object \n",
            " 2   Hobbyist                      64416 non-null  object \n",
            " 3   Age                           45446 non-null  float64\n",
            " 4   Age1stCode                    57900 non-null  object \n",
            " 5   CompFreq                      40069 non-null  object \n",
            " 6   CompTotal                     34826 non-null  float64\n",
            " 7   ConvertedComp                 34756 non-null  float64\n",
            " 8   Country                       64072 non-null  object \n",
            " 9   CurrencyDesc                  45472 non-null  object \n",
            " 10  CurrencySymbol                45472 non-null  object \n",
            " 11  DatabaseDesireNextYear        44070 non-null  object \n",
            " 12  DatabaseWorkedWith            49537 non-null  object \n",
            " 13  DevType                       49370 non-null  object \n",
            " 14  EdLevel                       57431 non-null  object \n",
            " 15  Employment                    63854 non-null  object \n",
            " 16  Ethnicity                     45948 non-null  object \n",
            " 17  Gender                        50557 non-null  object \n",
            " 18  JobFactors                    49349 non-null  object \n",
            " 19  JobSat                        45194 non-null  object \n",
            " 20  JobSeek                       51727 non-null  object \n",
            " 21  LanguageDesireNextYear        54113 non-null  object \n",
            " 22  LanguageWorkedWith            57378 non-null  object \n",
            " 23  MiscTechDesireNextYear        42379 non-null  object \n",
            " 24  MiscTechWorkedWith            40314 non-null  object \n",
            " 25  NEWCollabToolsDesireNextYear  47287 non-null  object \n",
            " 26  NEWCollabToolsWorkedWith      52883 non-null  object \n",
            " 27  NEWDevOps                     42686 non-null  object \n",
            " 28  NEWDevOpsImpt                 41732 non-null  object \n",
            " 29  NEWEdImpt                     48465 non-null  object \n",
            " 30  NEWJobHunt                    42286 non-null  object \n",
            " 31  NEWJobHuntResearch            41022 non-null  object \n",
            " 32  NEWLearn                      56156 non-null  object \n",
            " 33  NEWOffTopic                   50804 non-null  object \n",
            " 34  NEWOnboardGood                42623 non-null  object \n",
            " 35  NEWOtherComms                 57205 non-null  object \n",
            " 36  NEWOvertime                   43231 non-null  object \n",
            " 37  NEWPurchaseResearch           37321 non-null  object \n",
            " 38  NEWPurpleLink                 54803 non-null  object \n",
            " 39  NEWSOSites                    58275 non-null  object \n",
            " 40  NEWStuck                      54983 non-null  object \n",
            " 41  OpSys                         56228 non-null  object \n",
            " 42  OrgSize                       44334 non-null  object \n",
            " 43  PlatformDesireNextYear        50605 non-null  object \n",
            " 44  PlatformWorkedWith            53843 non-null  object \n",
            " 45  PurchaseWhat                  39364 non-null  object \n",
            " 46  Sexuality                     43992 non-null  object \n",
            " 47  SOAccount                     56805 non-null  object \n",
            " 48  SOComm                        56476 non-null  object \n",
            " 49  SOPartFreq                    46792 non-null  object \n",
            " 50  SOVisitFreq                   56970 non-null  object \n",
            " 51  SurveyEase                    51802 non-null  object \n",
            " 52  SurveyLength                  51701 non-null  object \n",
            " 53  Trans                         49345 non-null  object \n",
            " 54  UndergradMajor                50995 non-null  object \n",
            " 55  WebframeDesireNextYear        40024 non-null  object \n",
            " 56  WebframeWorkedWith            42279 non-null  object \n",
            " 57  WelcomeChange                 52683 non-null  object \n",
            " 58  WorkWeekHrs                   41151 non-null  float64\n",
            " 59  YearsCode                     57684 non-null  object \n",
            " 60  YearsCodePro                  46349 non-null  object \n",
            "dtypes: float64(4), int64(1), object(56)\n",
            "memory usage: 30.0+ MB\n"
          ],
          "name": "stdout"
        }
      ]
    },
    {
      "cell_type": "code",
      "metadata": {
        "id": "VZcLdNp7lF6T"
      },
      "source": [
        ""
      ],
      "execution_count": 11,
      "outputs": []
    },
    {
      "cell_type": "markdown",
      "metadata": {
        "id": "iOzxqsmJlUWN"
      },
      "source": [
        "### Load Schema CSV . This has details of columns "
      ]
    },
    {
      "cell_type": "code",
      "metadata": {
        "id": "tq4mcmMRR8XX"
      },
      "source": [
        "schema=pd.read_csv('survey_results_schema.csv')"
      ],
      "execution_count": 12,
      "outputs": []
    },
    {
      "cell_type": "code",
      "metadata": {
        "colab": {
          "base_uri": "https://localhost:8080/",
          "height": 1000
        },
        "id": "ED4B8J2e7xzR",
        "outputId": "fe94c555-a4e2-4834-a646-0b3d3f714aa0"
      },
      "source": [
        "schema.head(60)"
      ],
      "execution_count": 13,
      "outputs": [
        {
          "output_type": "execute_result",
          "data": {
            "text/html": [
              "<div>\n",
              "<style scoped>\n",
              "    .dataframe tbody tr th:only-of-type {\n",
              "        vertical-align: middle;\n",
              "    }\n",
              "\n",
              "    .dataframe tbody tr th {\n",
              "        vertical-align: top;\n",
              "    }\n",
              "\n",
              "    .dataframe thead th {\n",
              "        text-align: right;\n",
              "    }\n",
              "</style>\n",
              "<table border=\"1\" class=\"dataframe\">\n",
              "  <thead>\n",
              "    <tr style=\"text-align: right;\">\n",
              "      <th></th>\n",
              "      <th>Column</th>\n",
              "      <th>QuestionText</th>\n",
              "    </tr>\n",
              "  </thead>\n",
              "  <tbody>\n",
              "    <tr>\n",
              "      <th>0</th>\n",
              "      <td>Respondent</td>\n",
              "      <td>Randomized respondent ID number (not in order ...</td>\n",
              "    </tr>\n",
              "    <tr>\n",
              "      <th>1</th>\n",
              "      <td>MainBranch</td>\n",
              "      <td>Which of the following options best describes ...</td>\n",
              "    </tr>\n",
              "    <tr>\n",
              "      <th>2</th>\n",
              "      <td>Hobbyist</td>\n",
              "      <td>Do you code as a hobby?</td>\n",
              "    </tr>\n",
              "    <tr>\n",
              "      <th>3</th>\n",
              "      <td>Age</td>\n",
              "      <td>What is your age (in years)? If you prefer not...</td>\n",
              "    </tr>\n",
              "    <tr>\n",
              "      <th>4</th>\n",
              "      <td>Age1stCode</td>\n",
              "      <td>At what age did you write your first line of c...</td>\n",
              "    </tr>\n",
              "    <tr>\n",
              "      <th>5</th>\n",
              "      <td>CompFreq</td>\n",
              "      <td>Is that compensation weekly, monthly, or yearly?</td>\n",
              "    </tr>\n",
              "    <tr>\n",
              "      <th>6</th>\n",
              "      <td>CompTotal</td>\n",
              "      <td>What is your current total compensation (salar...</td>\n",
              "    </tr>\n",
              "    <tr>\n",
              "      <th>7</th>\n",
              "      <td>ConvertedComp</td>\n",
              "      <td>Salary converted to annual USD salaries using ...</td>\n",
              "    </tr>\n",
              "    <tr>\n",
              "      <th>8</th>\n",
              "      <td>Country</td>\n",
              "      <td>Where do you live?</td>\n",
              "    </tr>\n",
              "    <tr>\n",
              "      <th>9</th>\n",
              "      <td>CurrencyDesc</td>\n",
              "      <td>Which currency do you use day-to-day? If your ...</td>\n",
              "    </tr>\n",
              "    <tr>\n",
              "      <th>10</th>\n",
              "      <td>CurrencySymbol</td>\n",
              "      <td>Which currency do you use day-to-day? If your ...</td>\n",
              "    </tr>\n",
              "    <tr>\n",
              "      <th>11</th>\n",
              "      <td>DatabaseDesireNextYear</td>\n",
              "      <td>Which database environments have you done exte...</td>\n",
              "    </tr>\n",
              "    <tr>\n",
              "      <th>12</th>\n",
              "      <td>DatabaseWorkedWith</td>\n",
              "      <td>Which database environments have you done exte...</td>\n",
              "    </tr>\n",
              "    <tr>\n",
              "      <th>13</th>\n",
              "      <td>DevType</td>\n",
              "      <td>Which of the following describe you? Please se...</td>\n",
              "    </tr>\n",
              "    <tr>\n",
              "      <th>14</th>\n",
              "      <td>EdLevel</td>\n",
              "      <td>Which of the following best describes the high...</td>\n",
              "    </tr>\n",
              "    <tr>\n",
              "      <th>15</th>\n",
              "      <td>Employment</td>\n",
              "      <td>Which of the following best describes your cur...</td>\n",
              "    </tr>\n",
              "    <tr>\n",
              "      <th>16</th>\n",
              "      <td>Ethnicity</td>\n",
              "      <td>Which of the following describe you, if any? P...</td>\n",
              "    </tr>\n",
              "    <tr>\n",
              "      <th>17</th>\n",
              "      <td>Gender</td>\n",
              "      <td>Which of the following describe you, if any? P...</td>\n",
              "    </tr>\n",
              "    <tr>\n",
              "      <th>18</th>\n",
              "      <td>JobFactors</td>\n",
              "      <td>Imagine that you are deciding between two job ...</td>\n",
              "    </tr>\n",
              "    <tr>\n",
              "      <th>19</th>\n",
              "      <td>JobSat</td>\n",
              "      <td>How satisfied are you with your current job? (...</td>\n",
              "    </tr>\n",
              "    <tr>\n",
              "      <th>20</th>\n",
              "      <td>JobSeek</td>\n",
              "      <td>Which of the following best describes your cur...</td>\n",
              "    </tr>\n",
              "    <tr>\n",
              "      <th>21</th>\n",
              "      <td>LanguageDesireNextYear</td>\n",
              "      <td>Which programming, scripting, and markup langu...</td>\n",
              "    </tr>\n",
              "    <tr>\n",
              "      <th>22</th>\n",
              "      <td>LanguageWorkedWith</td>\n",
              "      <td>Which programming, scripting, and markup langu...</td>\n",
              "    </tr>\n",
              "    <tr>\n",
              "      <th>23</th>\n",
              "      <td>MiscTechDesireNextYear</td>\n",
              "      <td>Which other frameworks, libraries, and tools h...</td>\n",
              "    </tr>\n",
              "    <tr>\n",
              "      <th>24</th>\n",
              "      <td>MiscTechWorkedWith</td>\n",
              "      <td>Which other frameworks, libraries, and tools h...</td>\n",
              "    </tr>\n",
              "    <tr>\n",
              "      <th>25</th>\n",
              "      <td>NEWCollabToolsDesireNextYear</td>\n",
              "      <td>Which collaboration tools have you done extens...</td>\n",
              "    </tr>\n",
              "    <tr>\n",
              "      <th>26</th>\n",
              "      <td>NEWCollabToolsWorkedWith</td>\n",
              "      <td>Which collaboration tools have you done extens...</td>\n",
              "    </tr>\n",
              "    <tr>\n",
              "      <th>27</th>\n",
              "      <td>NEWDevOps</td>\n",
              "      <td>Does your company have a dedicated DevOps person?</td>\n",
              "    </tr>\n",
              "    <tr>\n",
              "      <th>28</th>\n",
              "      <td>NEWDevOpsImpt</td>\n",
              "      <td>How important is the practice of DevOps to sca...</td>\n",
              "    </tr>\n",
              "    <tr>\n",
              "      <th>29</th>\n",
              "      <td>NEWEdImpt</td>\n",
              "      <td>How important is a formal education, such as a...</td>\n",
              "    </tr>\n",
              "    <tr>\n",
              "      <th>30</th>\n",
              "      <td>NEWJobHunt</td>\n",
              "      <td>In general, what drives you to look for a new ...</td>\n",
              "    </tr>\n",
              "    <tr>\n",
              "      <th>31</th>\n",
              "      <td>NEWJobHuntResearch</td>\n",
              "      <td>When job searching, how do you learn more abou...</td>\n",
              "    </tr>\n",
              "    <tr>\n",
              "      <th>32</th>\n",
              "      <td>NEWLearn</td>\n",
              "      <td>How frequently do you learn a new language or ...</td>\n",
              "    </tr>\n",
              "    <tr>\n",
              "      <th>33</th>\n",
              "      <td>NEWOffTopic</td>\n",
              "      <td>Do you think Stack Overflow should relax restr...</td>\n",
              "    </tr>\n",
              "    <tr>\n",
              "      <th>34</th>\n",
              "      <td>NEWOnboardGood</td>\n",
              "      <td>Do you think your company has a good onboardin...</td>\n",
              "    </tr>\n",
              "    <tr>\n",
              "      <th>35</th>\n",
              "      <td>NEWOtherComms</td>\n",
              "      <td>Are you a member of any other online developer...</td>\n",
              "    </tr>\n",
              "    <tr>\n",
              "      <th>36</th>\n",
              "      <td>NEWOvertime</td>\n",
              "      <td>How often do you work overtime or beyond the f...</td>\n",
              "    </tr>\n",
              "    <tr>\n",
              "      <th>37</th>\n",
              "      <td>NEWPurchaseResearch</td>\n",
              "      <td>When buying a new tool or software, how do you...</td>\n",
              "    </tr>\n",
              "    <tr>\n",
              "      <th>38</th>\n",
              "      <td>NEWPurpleLink</td>\n",
              "      <td>You search for a coding solution online and th...</td>\n",
              "    </tr>\n",
              "    <tr>\n",
              "      <th>39</th>\n",
              "      <td>NEWSOSites</td>\n",
              "      <td>Which of the following Stack Overflow sites ha...</td>\n",
              "    </tr>\n",
              "    <tr>\n",
              "      <th>40</th>\n",
              "      <td>NEWStuck</td>\n",
              "      <td>What do you do when you get stuck on a problem...</td>\n",
              "    </tr>\n",
              "    <tr>\n",
              "      <th>41</th>\n",
              "      <td>OpSys</td>\n",
              "      <td>What is the primary operating system in which ...</td>\n",
              "    </tr>\n",
              "    <tr>\n",
              "      <th>42</th>\n",
              "      <td>OrgSize</td>\n",
              "      <td>Approximately how many people are employed by ...</td>\n",
              "    </tr>\n",
              "    <tr>\n",
              "      <th>43</th>\n",
              "      <td>PlatformDesireNextYear</td>\n",
              "      <td>Which platforms have you done extensive develo...</td>\n",
              "    </tr>\n",
              "    <tr>\n",
              "      <th>44</th>\n",
              "      <td>PlatformWorkedWith</td>\n",
              "      <td>Which platforms have you done extensive develo...</td>\n",
              "    </tr>\n",
              "    <tr>\n",
              "      <th>45</th>\n",
              "      <td>PurchaseWhat</td>\n",
              "      <td>What level of influence do you, personally, ha...</td>\n",
              "    </tr>\n",
              "    <tr>\n",
              "      <th>46</th>\n",
              "      <td>Sexuality</td>\n",
              "      <td>Which of the following describe you, if any? P...</td>\n",
              "    </tr>\n",
              "    <tr>\n",
              "      <th>47</th>\n",
              "      <td>SOAccount</td>\n",
              "      <td>Do you have a Stack Overflow account?</td>\n",
              "    </tr>\n",
              "    <tr>\n",
              "      <th>48</th>\n",
              "      <td>SOComm</td>\n",
              "      <td>Do you consider yourself a member of the Stack...</td>\n",
              "    </tr>\n",
              "    <tr>\n",
              "      <th>49</th>\n",
              "      <td>SOPartFreq</td>\n",
              "      <td>How frequently would you say you participate i...</td>\n",
              "    </tr>\n",
              "    <tr>\n",
              "      <th>50</th>\n",
              "      <td>SOVisitFreq</td>\n",
              "      <td>How frequently would you say you visit Stack O...</td>\n",
              "    </tr>\n",
              "    <tr>\n",
              "      <th>51</th>\n",
              "      <td>SurveyEase</td>\n",
              "      <td>How easy or difficult was this survey to compl...</td>\n",
              "    </tr>\n",
              "    <tr>\n",
              "      <th>52</th>\n",
              "      <td>SurveyLength</td>\n",
              "      <td>How do you feel about the length of the survey...</td>\n",
              "    </tr>\n",
              "    <tr>\n",
              "      <th>53</th>\n",
              "      <td>Trans</td>\n",
              "      <td>Are you transgender?</td>\n",
              "    </tr>\n",
              "    <tr>\n",
              "      <th>54</th>\n",
              "      <td>UndergradMajor</td>\n",
              "      <td>What was your primary field of study?</td>\n",
              "    </tr>\n",
              "    <tr>\n",
              "      <th>55</th>\n",
              "      <td>WebframeDesireNextYear</td>\n",
              "      <td>Which web frameworks have you done extensive d...</td>\n",
              "    </tr>\n",
              "    <tr>\n",
              "      <th>56</th>\n",
              "      <td>WebframeWorkedWith</td>\n",
              "      <td>Which web frameworks have you done extensive d...</td>\n",
              "    </tr>\n",
              "    <tr>\n",
              "      <th>57</th>\n",
              "      <td>WelcomeChange</td>\n",
              "      <td>Compared to last year, how welcome do you feel...</td>\n",
              "    </tr>\n",
              "    <tr>\n",
              "      <th>58</th>\n",
              "      <td>WorkWeekHrs</td>\n",
              "      <td>On average, how many hours per week do you wor...</td>\n",
              "    </tr>\n",
              "    <tr>\n",
              "      <th>59</th>\n",
              "      <td>YearsCode</td>\n",
              "      <td>Including any education, how many years have y...</td>\n",
              "    </tr>\n",
              "  </tbody>\n",
              "</table>\n",
              "</div>"
            ],
            "text/plain": [
              "                          Column                                       QuestionText\n",
              "0                     Respondent  Randomized respondent ID number (not in order ...\n",
              "1                     MainBranch  Which of the following options best describes ...\n",
              "2                       Hobbyist                            Do you code as a hobby?\n",
              "3                            Age  What is your age (in years)? If you prefer not...\n",
              "4                     Age1stCode  At what age did you write your first line of c...\n",
              "5                       CompFreq   Is that compensation weekly, monthly, or yearly?\n",
              "6                      CompTotal  What is your current total compensation (salar...\n",
              "7                  ConvertedComp  Salary converted to annual USD salaries using ...\n",
              "8                        Country                                 Where do you live?\n",
              "9                   CurrencyDesc  Which currency do you use day-to-day? If your ...\n",
              "10                CurrencySymbol  Which currency do you use day-to-day? If your ...\n",
              "11        DatabaseDesireNextYear  Which database environments have you done exte...\n",
              "12            DatabaseWorkedWith  Which database environments have you done exte...\n",
              "13                       DevType  Which of the following describe you? Please se...\n",
              "14                       EdLevel  Which of the following best describes the high...\n",
              "15                    Employment  Which of the following best describes your cur...\n",
              "16                     Ethnicity  Which of the following describe you, if any? P...\n",
              "17                        Gender  Which of the following describe you, if any? P...\n",
              "18                    JobFactors  Imagine that you are deciding between two job ...\n",
              "19                        JobSat  How satisfied are you with your current job? (...\n",
              "20                       JobSeek  Which of the following best describes your cur...\n",
              "21        LanguageDesireNextYear  Which programming, scripting, and markup langu...\n",
              "22            LanguageWorkedWith  Which programming, scripting, and markup langu...\n",
              "23        MiscTechDesireNextYear  Which other frameworks, libraries, and tools h...\n",
              "24            MiscTechWorkedWith  Which other frameworks, libraries, and tools h...\n",
              "25  NEWCollabToolsDesireNextYear  Which collaboration tools have you done extens...\n",
              "26      NEWCollabToolsWorkedWith  Which collaboration tools have you done extens...\n",
              "27                     NEWDevOps  Does your company have a dedicated DevOps person?\n",
              "28                 NEWDevOpsImpt  How important is the practice of DevOps to sca...\n",
              "29                     NEWEdImpt  How important is a formal education, such as a...\n",
              "30                    NEWJobHunt  In general, what drives you to look for a new ...\n",
              "31            NEWJobHuntResearch  When job searching, how do you learn more abou...\n",
              "32                      NEWLearn  How frequently do you learn a new language or ...\n",
              "33                   NEWOffTopic  Do you think Stack Overflow should relax restr...\n",
              "34                NEWOnboardGood  Do you think your company has a good onboardin...\n",
              "35                 NEWOtherComms  Are you a member of any other online developer...\n",
              "36                   NEWOvertime  How often do you work overtime or beyond the f...\n",
              "37           NEWPurchaseResearch  When buying a new tool or software, how do you...\n",
              "38                 NEWPurpleLink  You search for a coding solution online and th...\n",
              "39                    NEWSOSites  Which of the following Stack Overflow sites ha...\n",
              "40                      NEWStuck  What do you do when you get stuck on a problem...\n",
              "41                         OpSys  What is the primary operating system in which ...\n",
              "42                       OrgSize  Approximately how many people are employed by ...\n",
              "43        PlatformDesireNextYear  Which platforms have you done extensive develo...\n",
              "44            PlatformWorkedWith  Which platforms have you done extensive develo...\n",
              "45                  PurchaseWhat  What level of influence do you, personally, ha...\n",
              "46                     Sexuality  Which of the following describe you, if any? P...\n",
              "47                     SOAccount              Do you have a Stack Overflow account?\n",
              "48                        SOComm  Do you consider yourself a member of the Stack...\n",
              "49                    SOPartFreq  How frequently would you say you participate i...\n",
              "50                   SOVisitFreq  How frequently would you say you visit Stack O...\n",
              "51                    SurveyEase  How easy or difficult was this survey to compl...\n",
              "52                  SurveyLength  How do you feel about the length of the survey...\n",
              "53                         Trans                               Are you transgender?\n",
              "54                UndergradMajor              What was your primary field of study?\n",
              "55        WebframeDesireNextYear  Which web frameworks have you done extensive d...\n",
              "56            WebframeWorkedWith  Which web frameworks have you done extensive d...\n",
              "57                 WelcomeChange  Compared to last year, how welcome do you feel...\n",
              "58                   WorkWeekHrs  On average, how many hours per week do you wor...\n",
              "59                     YearsCode  Including any education, how many years have y..."
            ]
          },
          "metadata": {
            "tags": []
          },
          "execution_count": 13
        }
      ]
    },
    {
      "cell_type": "markdown",
      "metadata": {
        "id": "7IrvL-Pv7lia"
      },
      "source": [
        "## Which are the most popular desired tech skills among different experience Range "
      ]
    },
    {
      "cell_type": "markdown",
      "metadata": {
        "id": "JMxjUlOvlk46"
      },
      "source": [
        "####Lets first look at the number of years coding experience data"
      ]
    },
    {
      "cell_type": "code",
      "metadata": {
        "id": "IQTkSVIIJPSS"
      },
      "source": [
        "df=df.dropna(subset=['YearsCode'])"
      ],
      "execution_count": 14,
      "outputs": []
    },
    {
      "cell_type": "code",
      "metadata": {
        "colab": {
          "base_uri": "https://localhost:8080/"
        },
        "id": "pvrIQJiWJgEV",
        "outputId": "9cd24d1b-080c-4ff6-b288-179d7ca9ac89"
      },
      "source": [
        "df.YearsCode.isnull().sum()"
      ],
      "execution_count": 15,
      "outputs": [
        {
          "output_type": "execute_result",
          "data": {
            "text/plain": [
              "0"
            ]
          },
          "metadata": {
            "tags": []
          },
          "execution_count": 15
        }
      ]
    },
    {
      "cell_type": "code",
      "metadata": {
        "colab": {
          "base_uri": "https://localhost:8080/"
        },
        "id": "QvFfpyVSQMMD",
        "outputId": "c151a5ee-3d7e-4677-dcce-54c3e80cdf79"
      },
      "source": [
        "df.YearsCode.value_counts()"
      ],
      "execution_count": 16,
      "outputs": [
        {
          "output_type": "execute_result",
          "data": {
            "text/plain": [
              "10                    4510\n",
              "5                     4249\n",
              "6                     3834\n",
              "7                     3477\n",
              "8                     3407\n",
              "4                     3254\n",
              "3                     2951\n",
              "15                    2586\n",
              "20                    2562\n",
              "12                    2453\n",
              "9                     2344\n",
              "2                     1916\n",
              "11                    1691\n",
              "14                    1479\n",
              "13                    1468\n",
              "25                    1338\n",
              "16                    1203\n",
              "30                    1114\n",
              "18                    1089\n",
              "17                    1057\n",
              "1                      902\n",
              "22                     792\n",
              "Less than 1 year       757\n",
              "19                     657\n",
              "35                     599\n",
              "23                     572\n",
              "21                     550\n",
              "40                     535\n",
              "24                     449\n",
              "26                     378\n",
              "27                     335\n",
              "28                     314\n",
              "32                     309\n",
              "38                     289\n",
              "37                     258\n",
              "36                     246\n",
              "33                     236\n",
              "34                     230\n",
              "29                     178\n",
              "39                     155\n",
              "31                     154\n",
              "More than 50 years     143\n",
              "42                     127\n",
              "45                     108\n",
              "41                      99\n",
              "43                      92\n",
              "44                      69\n",
              "46                      44\n",
              "50                      42\n",
              "48                      35\n",
              "47                      27\n",
              "49                      21\n",
              "Name: YearsCode, dtype: int64"
            ]
          },
          "metadata": {
            "tags": []
          },
          "execution_count": 16
        }
      ]
    },
    {
      "cell_type": "markdown",
      "metadata": {
        "id": "a61bi_COmQAT"
      },
      "source": [
        "#### Below function would convert two strings \"Less than 1 year\" and \"More than 50 years\" into numbers as we would be creating buckets for experience range"
      ]
    },
    {
      "cell_type": "code",
      "metadata": {
        "id": "VBPWKD0fHElp"
      },
      "source": [
        "def map_year(x):\n",
        "  if x== \"Less than 1 year\":\n",
        "     y=0.5\n",
        "  elif x== \"More than 50 years\":\n",
        "    y=50.5\n",
        "  else:\n",
        "    y=x\n",
        "  return y\n",
        "\n",
        "\n",
        "#{\"Less than 1 year\":0.5,\"More than 50 years\": 50.5}\n",
        "\n",
        "df.YearsCode=df.YearsCode.map(map_year)"
      ],
      "execution_count": 17,
      "outputs": []
    },
    {
      "cell_type": "code",
      "metadata": {
        "id": "Aa7kD9fDJpih"
      },
      "source": [
        "df['YearsCode_float']=[ float(x) for x in df.YearsCode]"
      ],
      "execution_count": 22,
      "outputs": []
    },
    {
      "cell_type": "markdown",
      "metadata": {
        "id": "VZUB6IFhmlX-"
      },
      "source": [
        "#### Below code will create a new categorical field on experience range"
      ]
    },
    {
      "cell_type": "code",
      "metadata": {
        "id": "6JM9YjV9KjSL"
      },
      "source": [
        "df[\"CodeYearsRange\"]=pd.cut(df.YearsCode_float, bins=[0,1,10,20,30,40,50,60] ,labels=['0-1','1-10','10-20','20-30','30-40','40-50','50-60'])"
      ],
      "execution_count": 23,
      "outputs": []
    },
    {
      "cell_type": "code",
      "metadata": {
        "id": "IVx8fsZ6LOdu"
      },
      "source": [
        "df_desired_tech=df[['MiscTechDesireNextYear','CodeYearsRange','YearsCode_float']]"
      ],
      "execution_count": 24,
      "outputs": []
    },
    {
      "cell_type": "markdown",
      "metadata": {
        "id": "3jHd9mevmtN9"
      },
      "source": [
        "####drop missing values"
      ]
    },
    {
      "cell_type": "code",
      "metadata": {
        "colab": {
          "base_uri": "https://localhost:8080/",
          "height": 419
        },
        "id": "yJ9wJZ_ALZ7b",
        "outputId": "d6c5f211-cdba-407e-f3d7-bfec137b5f00"
      },
      "source": [
        "df_desired_tech.dropna(subset=['MiscTechDesireNextYear'])"
      ],
      "execution_count": 25,
      "outputs": [
        {
          "output_type": "execute_result",
          "data": {
            "text/html": [
              "<div>\n",
              "<style scoped>\n",
              "    .dataframe tbody tr th:only-of-type {\n",
              "        vertical-align: middle;\n",
              "    }\n",
              "\n",
              "    .dataframe tbody tr th {\n",
              "        vertical-align: top;\n",
              "    }\n",
              "\n",
              "    .dataframe thead th {\n",
              "        text-align: right;\n",
              "    }\n",
              "</style>\n",
              "<table border=\"1\" class=\"dataframe\">\n",
              "  <thead>\n",
              "    <tr style=\"text-align: right;\">\n",
              "      <th></th>\n",
              "      <th>MiscTechDesireNextYear</th>\n",
              "      <th>CodeYearsRange</th>\n",
              "      <th>YearsCode_float</th>\n",
              "    </tr>\n",
              "  </thead>\n",
              "  <tbody>\n",
              "    <tr>\n",
              "      <th>0</th>\n",
              "      <td>.NET Core;Xamarin</td>\n",
              "      <td>30-40</td>\n",
              "      <td>36.0</td>\n",
              "    </tr>\n",
              "    <tr>\n",
              "      <th>1</th>\n",
              "      <td>React Native;TensorFlow;Unity 3D</td>\n",
              "      <td>1-10</td>\n",
              "      <td>7.0</td>\n",
              "    </tr>\n",
              "    <tr>\n",
              "      <th>4</th>\n",
              "      <td>Ansible;Chef</td>\n",
              "      <td>10-20</td>\n",
              "      <td>15.0</td>\n",
              "    </tr>\n",
              "    <tr>\n",
              "      <th>7</th>\n",
              "      <td>Unity 3D</td>\n",
              "      <td>10-20</td>\n",
              "      <td>17.0</td>\n",
              "    </tr>\n",
              "    <tr>\n",
              "      <th>9</th>\n",
              "      <td>Pandas;TensorFlow</td>\n",
              "      <td>1-10</td>\n",
              "      <td>8.0</td>\n",
              "    </tr>\n",
              "    <tr>\n",
              "      <th>...</th>\n",
              "      <td>...</td>\n",
              "      <td>...</td>\n",
              "      <td>...</td>\n",
              "    </tr>\n",
              "    <tr>\n",
              "      <th>64437</th>\n",
              "      <td>.NET;Unreal Engine</td>\n",
              "      <td>0-1</td>\n",
              "      <td>0.5</td>\n",
              "    </tr>\n",
              "    <tr>\n",
              "      <th>64438</th>\n",
              "      <td>.NET;Node.js;Unity 3D</td>\n",
              "      <td>0-1</td>\n",
              "      <td>0.5</td>\n",
              "    </tr>\n",
              "    <tr>\n",
              "      <th>64441</th>\n",
              "      <td>.NET Core;Unity 3D</td>\n",
              "      <td>1-10</td>\n",
              "      <td>7.0</td>\n",
              "    </tr>\n",
              "    <tr>\n",
              "      <th>64446</th>\n",
              "      <td>Flutter;Node.js;React Native;TensorFlow;Unity ...</td>\n",
              "      <td>1-10</td>\n",
              "      <td>6.0</td>\n",
              "    </tr>\n",
              "    <tr>\n",
              "      <th>64453</th>\n",
              "      <td>.NET</td>\n",
              "      <td>1-10</td>\n",
              "      <td>3.0</td>\n",
              "    </tr>\n",
              "  </tbody>\n",
              "</table>\n",
              "<p>40603 rows × 3 columns</p>\n",
              "</div>"
            ],
            "text/plain": [
              "                                  MiscTechDesireNextYear  ... YearsCode_float\n",
              "0                                      .NET Core;Xamarin  ...            36.0\n",
              "1                       React Native;TensorFlow;Unity 3D  ...             7.0\n",
              "4                                           Ansible;Chef  ...            15.0\n",
              "7                                               Unity 3D  ...            17.0\n",
              "9                                      Pandas;TensorFlow  ...             8.0\n",
              "...                                                  ...  ...             ...\n",
              "64437                                 .NET;Unreal Engine  ...             0.5\n",
              "64438                              .NET;Node.js;Unity 3D  ...             0.5\n",
              "64441                                 .NET Core;Unity 3D  ...             7.0\n",
              "64446  Flutter;Node.js;React Native;TensorFlow;Unity ...  ...             6.0\n",
              "64453                                               .NET  ...             3.0\n",
              "\n",
              "[40603 rows x 3 columns]"
            ]
          },
          "metadata": {
            "tags": []
          },
          "execution_count": 25
        }
      ]
    },
    {
      "cell_type": "code",
      "metadata": {
        "colab": {
          "base_uri": "https://localhost:8080/",
          "height": 367
        },
        "id": "FxULPDooNcEi",
        "outputId": "2ba5f8b0-c754-4894-bc86-b90da432faa2"
      },
      "source": [
        "f = plt.figure(figsize=(7,5))\r\n",
        "ax = f.add_subplot(1,1,1)\r\n",
        "sns.histplot(data=df_desired_tech, stat=\"count\",\r\n",
        "             x=\"YearsCode_float\", kde=False,\r\n",
        "             palette=\"pastel\", \r\n",
        "             element=\"bars\")\r\n",
        "ax.set_title(\"coder Histogram\")\r\n",
        "ax.set_xlabel(\"Years of coding experience\")\r\n",
        "ax.set_ylabel(\"Count\")"
      ],
      "execution_count": 30,
      "outputs": [
        {
          "output_type": "execute_result",
          "data": {
            "text/plain": [
              "Text(0, 0.5, 'Count')"
            ]
          },
          "metadata": {
            "tags": []
          },
          "execution_count": 30
        },
        {
          "output_type": "display_data",
          "data": {
            "image/png": "[encoded data removed]",
            "text/plain": [
              "<Figure size 504x360 with 1 Axes>"
            ]
          },
          "metadata": {
            "tags": [],
            "needs_background": "light"
          }
        }
      ]
    },
    {
      "cell_type": "markdown",
      "metadata": {
        "id": "1o7oto2fnKY7"
      },
      "source": [
        "#### Summarize (group by) across desired technology and experience range to understand which technology are populare across which experience range"
      ]
    },
    {
      "cell_type": "code",
      "metadata": {
        "id": "EVKXTssGOAeX"
      },
      "source": [
        "df2=df_desired_tech.groupby(['CodeYearsRange','MiscTechDesireNextYear']).count().sort_values(['YearsCode_float'],ascending=False).reset_index()\n",
        "#df_desired_tech.groupby(['CodeYearsRange']).count()"
      ],
      "execution_count": null,
      "outputs": []
    },
    {
      "cell_type": "code",
      "metadata": {
        "id": "Iz9W8lZNK8jT"
      },
      "source": [
        "df2.columns=(['CodeYearsRange', 'MiscTechDesireNextYear', 'Count'])"
      ],
      "execution_count": null,
      "outputs": []
    },
    {
      "cell_type": "markdown",
      "metadata": {
        "id": "ZnqnA1l8nd0S"
      },
      "source": [
        "#### Select top 10"
      ]
    },
    {
      "cell_type": "code",
      "metadata": {
        "id": "oX7TT2jiYhL0"
      },
      "source": [
        "df3=df2.head(10)"
      ],
      "execution_count": null,
      "outputs": []
    },
    {
      "cell_type": "markdown",
      "metadata": {
        "id": "wcPXAYQWnp_V"
      },
      "source": [
        "#### BAR plot"
      ]
    },
    {
      "cell_type": "code",
      "metadata": {
        "colab": {
          "base_uri": "https://localhost:8080/",
          "height": 494
        },
        "id": "QDD-rjlUQlr-",
        "outputId": "83a5df72-9136-42f5-e7a3-0967b623317c"
      },
      "source": [
        "\n",
        "sns.catplot(x=\"MiscTechDesireNextYear\", y=\"Count\", hue=\"CodeYearsRange\", kind=\"bar\", data=df3)\n",
        "plt.xticks(rotation=90)\n",
        "#plt.tight_layout()"
      ],
      "execution_count": null,
      "outputs": [
        {
          "output_type": "execute_result",
          "data": {
            "text/plain": [
              "(array([0, 1, 2, 3, 4, 5]), <a list of 6 Text major ticklabel objects>)"
            ]
          },
          "metadata": {
            "tags": []
          },
          "execution_count": 34
        },
        {
          "output_type": "display_data",
          "data": {
            "image/png": "[encoded data removed]",
            "text/plain": [
              "<Figure size 451.25x360 with 1 Axes>"
            ]
          },
          "metadata": {
            "tags": [],
            "needs_background": "light"
          }
        }
      ]
    },
    {
      "cell_type": "markdown",
      "metadata": {
        "id": "jJy-gPAjnoN9"
      },
      "source": [
        ""
      ]
    },
    {
      "cell_type": "code",
      "metadata": {
        "id": "f86UWTB_RWb0"
      },
      "source": [
        ""
      ],
      "execution_count": null,
      "outputs": []
    },
    {
      "cell_type": "markdown",
      "metadata": {
        "id": "iuV9NAdooOlh"
      },
      "source": [
        "### Which platform pays better in USA"
      ]
    },
    {
      "cell_type": "code",
      "metadata": {
        "id": "TnAh5aJi9mEs"
      },
      "source": [
        "df_sal=df[['Country','PlatformWorkedWith','CompTotal']]"
      ],
      "execution_count": null,
      "outputs": []
    },
    {
      "cell_type": "code",
      "metadata": {
        "colab": {
          "base_uri": "https://localhost:8080/"
        },
        "id": "XLL90uRAd8hk",
        "outputId": "5f481c96-4494-4cba-cf57-4eab498a6fae"
      },
      "source": [
        "df_sal.isnull().sum()"
      ],
      "execution_count": null,
      "outputs": [
        {
          "output_type": "execute_result",
          "data": {
            "text/plain": [
              "Country               0    \n",
              "PlatformWorkedWith    6710 \n",
              "CompTotal             22985\n",
              "dtype: int64"
            ]
          },
          "metadata": {
            "tags": []
          },
          "execution_count": 93
        }
      ]
    },
    {
      "cell_type": "markdown",
      "metadata": {
        "id": "qjsAy3Pcy7f0"
      },
      "source": [
        "#### Delete missing data records"
      ]
    },
    {
      "cell_type": "code",
      "metadata": {
        "id": "MnIJ81IKeKdh"
      },
      "source": [
        "df_sal_cleaned=df_sal.dropna(subset=['CompTotal'])"
      ],
      "execution_count": null,
      "outputs": []
    },
    {
      "cell_type": "code",
      "metadata": {
        "colab": {
          "base_uri": "https://localhost:8080/"
        },
        "id": "i43gzTXGedur",
        "outputId": "da372833-723c-4855-f3f9-a6fe78031c1b"
      },
      "source": [
        "df_sal_cleaned.isnull().sum()"
      ],
      "execution_count": null,
      "outputs": [
        {
          "output_type": "execute_result",
          "data": {
            "text/plain": [
              "Country               0   \n",
              "PlatformWorkedWith    2768\n",
              "CompTotal             0   \n",
              "dtype: int64"
            ]
          },
          "metadata": {
            "tags": []
          },
          "execution_count": 95
        }
      ]
    },
    {
      "cell_type": "code",
      "metadata": {
        "colab": {
          "base_uri": "https://localhost:8080/"
        },
        "id": "z1B4vtawet78",
        "outputId": "166070cd-3c5f-4b20-c683-3deca4f16ee0"
      },
      "source": [
        "df_sal_cleaned.dropna(subset=['PlatformWorkedWith'], inplace=True)"
      ],
      "execution_count": null,
      "outputs": [
        {
          "output_type": "stream",
          "text": [
            "/usr/local/lib/python3.6/dist-packages/ipykernel_launcher.py:1: SettingWithCopyWarning: \n",
            "A value is trying to be set on a copy of a slice from a DataFrame\n",
            "\n",
            "See the caveats in the documentation: https://pandas.pydata.org/pandas-docs/stable/user_guide/indexing.html#returning-a-view-versus-a-copy\n",
            "  \"\"\"Entry point for launching an IPython kernel.\n"
          ],
          "name": "stderr"
        }
      ]
    },
    {
      "cell_type": "code",
      "metadata": {
        "colab": {
          "base_uri": "https://localhost:8080/"
        },
        "id": "zXwvJNXjfDE_",
        "outputId": "dd1ad06f-6bb8-4941-bde1-096ca3775580"
      },
      "source": [
        "df_sal_cleaned.isnull().sum()"
      ],
      "execution_count": null,
      "outputs": [
        {
          "output_type": "execute_result",
          "data": {
            "text/plain": [
              "Country               0\n",
              "PlatformWorkedWith    0\n",
              "CompTotal             0\n",
              "dtype: int64"
            ]
          },
          "metadata": {
            "tags": []
          },
          "execution_count": 97
        }
      ]
    },
    {
      "cell_type": "code",
      "metadata": {
        "colab": {
          "base_uri": "https://localhost:8080/",
          "height": 297
        },
        "id": "pNpEZuX0fLIc",
        "outputId": "29edb5b9-a1ca-4407-d152-ab542a9332eb"
      },
      "source": [
        "df_sal_cleaned.describe()"
      ],
      "execution_count": null,
      "outputs": [
        {
          "output_type": "execute_result",
          "data": {
            "text/html": [
              "<div>\n",
              "<style scoped>\n",
              "    .dataframe tbody tr th:only-of-type {\n",
              "        vertical-align: middle;\n",
              "    }\n",
              "\n",
              "    .dataframe tbody tr th {\n",
              "        vertical-align: top;\n",
              "    }\n",
              "\n",
              "    .dataframe thead th {\n",
              "        text-align: right;\n",
              "    }\n",
              "</style>\n",
              "<table border=\"1\" class=\"dataframe\">\n",
              "  <thead>\n",
              "    <tr style=\"text-align: right;\">\n",
              "      <th></th>\n",
              "      <th>CompTotal</th>\n",
              "    </tr>\n",
              "  </thead>\n",
              "  <tbody>\n",
              "    <tr>\n",
              "      <th>count</th>\n",
              "      <td>3.193100e+04</td>\n",
              "    </tr>\n",
              "    <tr>\n",
              "      <th>mean</th>\n",
              "      <td>3.131753e+145</td>\n",
              "    </tr>\n",
              "    <tr>\n",
              "      <th>std</th>\n",
              "      <td>5.596207e+147</td>\n",
              "    </tr>\n",
              "    <tr>\n",
              "      <th>min</th>\n",
              "      <td>0.000000e+00</td>\n",
              "    </tr>\n",
              "    <tr>\n",
              "      <th>25%</th>\n",
              "      <td>2.000000e+04</td>\n",
              "    </tr>\n",
              "    <tr>\n",
              "      <th>50%</th>\n",
              "      <td>6.400000e+04</td>\n",
              "    </tr>\n",
              "    <tr>\n",
              "      <th>75%</th>\n",
              "      <td>1.250000e+05</td>\n",
              "    </tr>\n",
              "    <tr>\n",
              "      <th>max</th>\n",
              "      <td>1.000000e+150</td>\n",
              "    </tr>\n",
              "  </tbody>\n",
              "</table>\n",
              "</div>"
            ],
            "text/plain": [
              "           CompTotal\n",
              "count  3.193100e+04 \n",
              "mean   3.131753e+145\n",
              "std    5.596207e+147\n",
              "min    0.000000e+00 \n",
              "25%    2.000000e+04 \n",
              "50%    6.400000e+04 \n",
              "75%    1.250000e+05 \n",
              "max    1.000000e+150"
            ]
          },
          "metadata": {
            "tags": []
          },
          "execution_count": 98
        }
      ]
    },
    {
      "cell_type": "code",
      "metadata": {
        "colab": {
          "base_uri": "https://localhost:8080/"
        },
        "id": "vcEUwTYxfObG",
        "outputId": "97f6ff2a-fc82-42e5-9929-b3cf33c1ac42"
      },
      "source": [
        "df_sal_cleaned['Country'].value_counts()"
      ],
      "execution_count": null,
      "outputs": [
        {
          "output_type": "execute_result",
          "data": {
            "text/plain": [
              "United States        7524\n",
              "United Kingdom       2406\n",
              "India                2347\n",
              "Germany              2135\n",
              "Canada               1222\n",
              "                     ... \n",
              "Brunei Darussalam    1   \n",
              "Guinea               1   \n",
              "Yemen                1   \n",
              "Belize               1   \n",
              "Lesotho              1   \n",
              "Name: Country, Length: 158, dtype: int64"
            ]
          },
          "metadata": {
            "tags": []
          },
          "execution_count": 48
        }
      ]
    },
    {
      "cell_type": "code",
      "metadata": {
        "id": "qcG6C1yYzHVY"
      },
      "source": [
        ""
      ],
      "execution_count": null,
      "outputs": []
    },
    {
      "cell_type": "markdown",
      "metadata": {
        "id": "kLGg00ywzHxr"
      },
      "source": [
        "#### Filter out USA data"
      ]
    },
    {
      "cell_type": "code",
      "metadata": {
        "id": "cLXakZoTfYpn"
      },
      "source": [
        "df_sal_cleaned_us=df_sal_cleaned[df_sal_cleaned.Country=='United States']"
      ],
      "execution_count": null,
      "outputs": []
    },
    {
      "cell_type": "markdown",
      "metadata": {
        "id": "sNZq_Po5piW7"
      },
      "source": [
        "###Lets look at the data ..top 3 rows looks like outlier data\r\n"
      ]
    },
    {
      "cell_type": "code",
      "metadata": {
        "colab": {
          "base_uri": "https://localhost:8080/",
          "height": 419
        },
        "id": "mJmoRH43pPP5",
        "outputId": "0f73fb6d-13bb-4333-ecdb-f50fa6a48cc5"
      },
      "source": [
        "df_sal_cleaned_us.sort_values(['CompTotal'],ascending=False)"
      ],
      "execution_count": null,
      "outputs": [
        {
          "output_type": "execute_result",
          "data": {
            "text/html": [
              "<div>\n",
              "<style scoped>\n",
              "    .dataframe tbody tr th:only-of-type {\n",
              "        vertical-align: middle;\n",
              "    }\n",
              "\n",
              "    .dataframe tbody tr th {\n",
              "        vertical-align: top;\n",
              "    }\n",
              "\n",
              "    .dataframe thead th {\n",
              "        text-align: right;\n",
              "    }\n",
              "</style>\n",
              "<table border=\"1\" class=\"dataframe\">\n",
              "  <thead>\n",
              "    <tr style=\"text-align: right;\">\n",
              "      <th></th>\n",
              "      <th>Country</th>\n",
              "      <th>PlatformWorkedWith</th>\n",
              "      <th>CompTotal</th>\n",
              "    </tr>\n",
              "  </thead>\n",
              "  <tbody>\n",
              "    <tr>\n",
              "      <th>2488</th>\n",
              "      <td>United States</td>\n",
              "      <td>Windows</td>\n",
              "      <td>1.000000e+15</td>\n",
              "    </tr>\n",
              "    <tr>\n",
              "      <th>9802</th>\n",
              "      <td>United States</td>\n",
              "      <td>Android;Google Cloud Platform;IBM Cloud or Watson;iOS;Linux;MacOS;Windows</td>\n",
              "      <td>5.000000e+09</td>\n",
              "    </tr>\n",
              "    <tr>\n",
              "      <th>41925</th>\n",
              "      <td>United States</td>\n",
              "      <td>Docker;Linux;Windows</td>\n",
              "      <td>2.500000e+06</td>\n",
              "    </tr>\n",
              "    <tr>\n",
              "      <th>61373</th>\n",
              "      <td>United States</td>\n",
              "      <td>Docker;Linux;Microsoft Azure;Raspberry Pi;Windows</td>\n",
              "      <td>1.560000e+06</td>\n",
              "    </tr>\n",
              "    <tr>\n",
              "      <th>57924</th>\n",
              "      <td>United States</td>\n",
              "      <td>Linux</td>\n",
              "      <td>1.500000e+06</td>\n",
              "    </tr>\n",
              "    <tr>\n",
              "      <th>...</th>\n",
              "      <td>...</td>\n",
              "      <td>...</td>\n",
              "      <td>...</td>\n",
              "    </tr>\n",
              "    <tr>\n",
              "      <th>31513</th>\n",
              "      <td>United States</td>\n",
              "      <td>AWS;Docker;Linux;MacOS;Windows;WordPress</td>\n",
              "      <td>0.000000e+00</td>\n",
              "    </tr>\n",
              "    <tr>\n",
              "      <th>51082</th>\n",
              "      <td>United States</td>\n",
              "      <td>Docker</td>\n",
              "      <td>0.000000e+00</td>\n",
              "    </tr>\n",
              "    <tr>\n",
              "      <th>19596</th>\n",
              "      <td>United States</td>\n",
              "      <td>AWS;Docker;Linux;Microsoft Azure;Windows</td>\n",
              "      <td>0.000000e+00</td>\n",
              "    </tr>\n",
              "    <tr>\n",
              "      <th>3842</th>\n",
              "      <td>United States</td>\n",
              "      <td>Linux</td>\n",
              "      <td>0.000000e+00</td>\n",
              "    </tr>\n",
              "    <tr>\n",
              "      <th>2239</th>\n",
              "      <td>United States</td>\n",
              "      <td>Linux</td>\n",
              "      <td>0.000000e+00</td>\n",
              "    </tr>\n",
              "  </tbody>\n",
              "</table>\n",
              "<p>7517 rows × 3 columns</p>\n",
              "</div>"
            ],
            "text/plain": [
              "             Country  ...     CompTotal\n",
              "2488   United States  ...  1.000000e+15\n",
              "9802   United States  ...  5.000000e+09\n",
              "41925  United States  ...  2.500000e+06\n",
              "61373  United States  ...  1.560000e+06\n",
              "57924  United States  ...  1.500000e+06\n",
              "...              ...  ...           ...\n",
              "31513  United States  ...  0.000000e+00\n",
              "51082  United States  ...  0.000000e+00\n",
              "19596  United States  ...  0.000000e+00\n",
              "3842   United States  ...  0.000000e+00\n",
              "2239   United States  ...  0.000000e+00\n",
              "\n",
              "[7517 rows x 3 columns]"
            ]
          },
          "metadata": {
            "tags": []
          },
          "execution_count": 100
        }
      ]
    },
    {
      "cell_type": "code",
      "metadata": {
        "id": "bLojFRuZuIiV"
      },
      "source": [
        "df_sal_cleaned_us1=df_sal_cleaned_us.sort_values(['CompTotal'],ascending=False)"
      ],
      "execution_count": null,
      "outputs": []
    },
    {
      "cell_type": "markdown",
      "metadata": {
        "id": "b8-yeYxYuJoC"
      },
      "source": [
        "### This would remove top 3 rows"
      ]
    },
    {
      "cell_type": "code",
      "metadata": {
        "id": "q0Yh6QngqiEa"
      },
      "source": [
        "df_sal_cleaned_us1=df_sal_cleaned_us1[3:]"
      ],
      "execution_count": null,
      "outputs": []
    },
    {
      "cell_type": "markdown",
      "metadata": {
        "id": "KQEsUdT5zocv"
      },
      "source": [
        "#### Calculate average salary across plaotform"
      ]
    },
    {
      "cell_type": "code",
      "metadata": {
        "id": "47QyyOg9jIf1"
      },
      "source": [
        "df4=df_sal_cleaned_us1.groupby(['PlatformWorkedWith','Country']).mean().sort_values(['CompTotal'],ascending=False).reset_index().head(5)"
      ],
      "execution_count": null,
      "outputs": []
    },
    {
      "cell_type": "code",
      "metadata": {
        "colab": {
          "base_uri": "https://localhost:8080/",
          "height": 204
        },
        "id": "j9WDTB84meI1",
        "outputId": "0165ad80-0773-4abd-bc16-800a0958d431"
      },
      "source": [
        "df4.head()"
      ],
      "execution_count": null,
      "outputs": [
        {
          "output_type": "execute_result",
          "data": {
            "text/html": [
              "<div>\n",
              "<style scoped>\n",
              "    .dataframe tbody tr th:only-of-type {\n",
              "        vertical-align: middle;\n",
              "    }\n",
              "\n",
              "    .dataframe tbody tr th {\n",
              "        vertical-align: top;\n",
              "    }\n",
              "\n",
              "    .dataframe thead th {\n",
              "        text-align: right;\n",
              "    }\n",
              "</style>\n",
              "<table border=\"1\" class=\"dataframe\">\n",
              "  <thead>\n",
              "    <tr style=\"text-align: right;\">\n",
              "      <th></th>\n",
              "      <th>PlatformWorkedWith</th>\n",
              "      <th>Country</th>\n",
              "      <th>CompTotal</th>\n",
              "    </tr>\n",
              "  </thead>\n",
              "  <tbody>\n",
              "    <tr>\n",
              "      <th>0</th>\n",
              "      <td>Android;Google Cloud Platform;iOS;MacOS</td>\n",
              "      <td>United States</td>\n",
              "      <td>800000.000000</td>\n",
              "    </tr>\n",
              "    <tr>\n",
              "      <th>1</th>\n",
              "      <td>Android;Arduino;AWS;Docker;Google Cloud Platform;IBM Cloud or Watson;iOS;Kubernetes;Linux;MacOS;Raspberry Pi;Slack Apps and Integrations;Windows</td>\n",
              "      <td>United States</td>\n",
              "      <td>750000.000000</td>\n",
              "    </tr>\n",
              "    <tr>\n",
              "      <th>2</th>\n",
              "      <td>Android;Docker;Heroku;Kubernetes;Linux;MacOS;Microsoft Azure;Raspberry Pi</td>\n",
              "      <td>United States</td>\n",
              "      <td>650000.000000</td>\n",
              "    </tr>\n",
              "    <tr>\n",
              "      <th>3</th>\n",
              "      <td>Android;Arduino;AWS;Docker;Google Cloud Platform;Heroku;iOS;Kubernetes;Linux;MacOS;Microsoft Azure;Raspberry Pi;Slack Apps and Integrations;Windows</td>\n",
              "      <td>United States</td>\n",
              "      <td>580000.000000</td>\n",
              "    </tr>\n",
              "    <tr>\n",
              "      <th>4</th>\n",
              "      <td>Docker;Linux;Microsoft Azure;Raspberry Pi;Windows</td>\n",
              "      <td>United States</td>\n",
              "      <td>578333.333333</td>\n",
              "    </tr>\n",
              "  </tbody>\n",
              "</table>\n",
              "</div>"
            ],
            "text/plain": [
              "                                                                                                                                    PlatformWorkedWith  ...      CompTotal\n",
              "0  Android;Google Cloud Platform;iOS;MacOS                                                                                                              ...  800000.000000\n",
              "1  Android;Arduino;AWS;Docker;Google Cloud Platform;IBM Cloud or Watson;iOS;Kubernetes;Linux;MacOS;Raspberry Pi;Slack Apps and Integrations;Windows     ...  750000.000000\n",
              "2  Android;Docker;Heroku;Kubernetes;Linux;MacOS;Microsoft Azure;Raspberry Pi                                                                            ...  650000.000000\n",
              "3  Android;Arduino;AWS;Docker;Google Cloud Platform;Heroku;iOS;Kubernetes;Linux;MacOS;Microsoft Azure;Raspberry Pi;Slack Apps and Integrations;Windows  ...  580000.000000\n",
              "4  Docker;Linux;Microsoft Azure;Raspberry Pi;Windows                                                                                                    ...  578333.333333\n",
              "\n",
              "[5 rows x 3 columns]"
            ]
          },
          "metadata": {
            "tags": []
          },
          "execution_count": 104
        }
      ]
    },
    {
      "cell_type": "markdown",
      "metadata": {
        "id": "cBzbJjFlzgUo"
      },
      "source": [
        "#### Plot Bar plot for top 5"
      ]
    },
    {
      "cell_type": "code",
      "metadata": {
        "colab": {
          "base_uri": "https://localhost:8080/",
          "height": 1000
        },
        "id": "ItwKlIUCkEVB",
        "outputId": "8cabf539-2c42-427e-a2f2-3b8d2745fa2a"
      },
      "source": [
        "sns.set(style=\"whitegrid\")\r\n",
        "g=sns.catplot(x=\"PlatformWorkedWith\", y=\"CompTotal\", kind=\"bar\", data=df4)\r\n",
        "g.fig.get_axes()[0].set_yscale('log')\r\n",
        "plt.xticks(rotation=90)\r\n",
        "plt.show()"
      ],
      "execution_count": null,
      "outputs": [
        {
          "output_type": "stream",
          "text": [
            "/usr/local/lib/python3.6/dist-packages/seaborn/axisgrid.py:64: UserWarning: Tight layout not applied. The left and right margins cannot be made large enough to accommodate all axes decorations. \n",
            "  self.fig.tight_layout(*args, **kwargs)\n"
          ],
          "name": "stderr"
        },
        {
          "output_type": "display_data",
          "data": {
            "image/png": "[encoded data removed]",
            "text/plain": [
              "<Figure size 360x360 with 1 Axes>"
            ]
          },
          "metadata": {
            "tags": []
          }
        }
      ]
    },
    {
      "cell_type": "code",
      "metadata": {
        "id": "gccQpbC-zbl-"
      },
      "source": [
        ""
      ],
      "execution_count": null,
      "outputs": []
    },
    {
      "cell_type": "code",
      "metadata": {
        "id": "ZXAnIDp8zOJu"
      },
      "source": [
        ""
      ],
      "execution_count": null,
      "outputs": []
    },
    {
      "cell_type": "markdown",
      "metadata": {
        "id": "PYHRMubNzQYX"
      },
      "source": [
        "### Does the company size has impact on the salary range \r\n"
      ]
    },
    {
      "cell_type": "code",
      "metadata": {
        "id": "6UyEXd06mrAA"
      },
      "source": [
        "df_comp_size=df[['OrgSize','ConvertedComp']]"
      ],
      "execution_count": null,
      "outputs": []
    },
    {
      "cell_type": "code",
      "metadata": {
        "colab": {
          "base_uri": "https://localhost:8080/"
        },
        "id": "x95AzvFlz4W6",
        "outputId": "3066e3ec-1bb5-4831-f4b7-40da6f7798c3"
      },
      "source": [
        "df_comp_size.isnull().sum()"
      ],
      "execution_count": null,
      "outputs": [
        {
          "output_type": "execute_result",
          "data": {
            "text/plain": [
              "OrgSize          13654\n",
              "ConvertedComp    23054\n",
              "dtype: int64"
            ]
          },
          "metadata": {
            "tags": []
          },
          "execution_count": 117
        }
      ]
    },
    {
      "cell_type": "markdown",
      "metadata": {
        "id": "6CLJM0fez13Z"
      },
      "source": [
        "#### Delete missing data"
      ]
    },
    {
      "cell_type": "code",
      "metadata": {
        "colab": {
          "base_uri": "https://localhost:8080/"
        },
        "id": "e4Vf1AFU0Bru",
        "outputId": "33a7702b-9400-4da8-b15a-4a163e0af78a"
      },
      "source": [
        "df_comp_size.dropna(subset=['ConvertedComp','OrgSize'],inplace=True)"
      ],
      "execution_count": null,
      "outputs": [
        {
          "output_type": "stream",
          "text": [
            "/usr/local/lib/python3.6/dist-packages/ipykernel_launcher.py:1: SettingWithCopyWarning: \n",
            "A value is trying to be set on a copy of a slice from a DataFrame\n",
            "\n",
            "See the caveats in the documentation: https://pandas.pydata.org/pandas-docs/stable/user_guide/indexing.html#returning-a-view-versus-a-copy\n",
            "  \"\"\"Entry point for launching an IPython kernel.\n"
          ],
          "name": "stderr"
        }
      ]
    },
    {
      "cell_type": "code",
      "metadata": {
        "colab": {
          "base_uri": "https://localhost:8080/"
        },
        "id": "_lCThjXp0h83",
        "outputId": "1476d522-04ea-4945-e348-890327af0bf1"
      },
      "source": [
        "df_comp_size.isnull().sum()"
      ],
      "execution_count": null,
      "outputs": [
        {
          "output_type": "execute_result",
          "data": {
            "text/plain": [
              "OrgSize          0\n",
              "ConvertedComp    0\n",
              "dtype: int64"
            ]
          },
          "metadata": {
            "tags": []
          },
          "execution_count": 119
        }
      ]
    },
    {
      "cell_type": "markdown",
      "metadata": {
        "id": "KoArLjO9z8eo"
      },
      "source": [
        "#### Calculate avareage salary across orgsize"
      ]
    },
    {
      "cell_type": "code",
      "metadata": {
        "id": "MNceAKsO0t0Q"
      },
      "source": [
        "df5=df_comp_size.groupby('OrgSize').mean().sort_values(['ConvertedComp'],ascending=False).reset_index()"
      ],
      "execution_count": null,
      "outputs": []
    },
    {
      "cell_type": "code",
      "metadata": {
        "colab": {
          "base_uri": "https://localhost:8080/",
          "height": 635
        },
        "id": "vC5L28Rh1Z7G",
        "outputId": "0460528c-d5c8-462b-8b24-814279419de2"
      },
      "source": [
        "sns.set(style=\"whitegrid\")\r\n",
        "g=sns.catplot(x=\"OrgSize\", y=\"ConvertedComp\", kind=\"bar\", data=df5)\r\n",
        "plt.xticks(rotation=90)\r\n",
        "plt.show()"
      ],
      "execution_count": null,
      "outputs": [
        {
          "output_type": "display_data",
          "data": {
            "image/png": "[encoded data removed]",
            "text/plain": [
              "<Figure size 360x360 with 1 Axes>"
            ]
          },
          "metadata": {
            "tags": []
          }
        }
      ]
    },
    {
      "cell_type": "code",
      "metadata": {
        "id": "43iRVZNF7K6t"
      },
      "source": [
        ""
      ],
      "execution_count": null,
      "outputs": []
    }
  ]
}